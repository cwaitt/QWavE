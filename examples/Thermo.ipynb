{
 "cells": [
  {
   "cell_type": "markdown",
   "metadata": {},
   "source": [
    "# Evaluating Thermodynamic Functions"
   ]
  },
  {
   "cell_type": "markdown",
   "metadata": {},
   "source": [
    "QWavE has also been implimented to obtain thermodynamic variables from the partition function (currently only the canonical partition function has been implimented). This example will show example on how to obtain Free Energies, entropies, and heat capacities."
   ]
  },
  {
   "cell_type": "markdown",
   "metadata": {},
   "source": [
    "# Canonical Partion Function"
   ]
  },
  {
   "cell_type": "markdown",
   "metadata": {},
   "source": [
    "See the previus example titled ??? (coming soon) on how to obtain the canonical partition function. The free energy  ascociated with the canonical partition function is the Helmholtz free energy, and is obtained by:"
   ]
  },
  {
   "cell_type": "markdown",
   "metadata": {},
   "source": [
    "$$A = {-k_{b} T} \\text{ln}(q)$$"
   ]
  },
  {
   "cell_type": "markdown",
   "metadata": {},
   "source": [
    "where $k_{b}$, $T$, and $q$ are the Boltzmann constant, temperature, and partition function respectively. The canonical partion is an $NVT$ ensemble, and thus the other thermodynamic quantities can be computed by taking the derivate of one of those parameters (as we shall see). Since this is a 1 dimensional solver, the volume should really be a length but this document will use both interchangably."
   ]
  },
  {
   "cell_type": "markdown",
   "metadata": {},
   "source": [
    "## Get the Helmholtz Free Energy"
   ]
  },
  {
   "cell_type": "code",
   "execution_count": 1,
   "metadata": {},
   "outputs": [],
   "source": [
    "# Load some modules that will be needed\n",
    "import qwave\n",
    "from scipy import constants\n",
    "import numpy as np\n",
    "import matplotlib.pyplot as plt\n",
    "import gmpy2"
   ]
  },
  {
   "cell_type": "code",
   "execution_count": 2,
   "metadata": {},
   "outputs": [],
   "source": [
    "bl = 10 # length of box\n",
    "m = 1823 # mass of proton\n",
    "temp = np.linspace(1,1000,1000) # temperature range, cannot evaluate the temperature at low T (working on a fix) \n",
    "\n",
    "# kb = constants.physical_constants['kelvin-hartree relationship'][0]\n",
    "h_ev = constants.physical_constants['hartree-electron volt relationship'][0]\n",
    "kb = constants.physical_constants['Boltzmann constant in eV/K'][0]\n",
    "\n",
    "eigen,wave = qwave.schrodinger_solution(bl,m, problem='box')\n",
    "eig = eigen * h_ev\n",
    "q_can = qwave.q_PESq(eig,temp,kb) # the eigen values are in atomic units\n",
    "                                         # you can convert them to another energy unit or leave them in atomic units if you wish\n",
    "\n",
    "# you can evaluate A by hand via the equation above or use the free_A module for the same result \n",
    "# Helmholtz,S = qwave.free_A_S(q_can,temp,'eV')"
   ]
  },
  {
   "cell_type": "code",
   "execution_count": 3,
   "metadata": {},
   "outputs": [],
   "source": [
    "q_tot = []\n",
    "for i in temp:\n",
    "    q_temp = 0\n",
    "    for j in eig:\n",
    "        q_temp = np.exp(-j/(kb*i)) + q_temp\n",
    "        \n",
    "    q_tot.append(q_temp)\n",
    "# print(np.array(q_tot))\n",
    "\n",
    "a_s=qwave.free_A(q_can,temp,kb)"
   ]
  },
  {
   "cell_type": "code",
   "execution_count": 4,
   "metadata": {},
   "outputs": [
    {
     "data": {
      "text/plain": [
       "0.1002900434613027"
      ]
     },
     "execution_count": 4,
     "metadata": {},
     "output_type": "execute_result"
    }
   ],
   "source": [
    "num = np.exp(-eig[1]/(kb*100000))\n",
    "den = 0\n",
    "for i in eig:\n",
    "    test = np.exp(-i/(kb*100000))\n",
    "    den = den + test\n",
    "    \n",
    "num/den"
   ]
  },
  {
   "cell_type": "code",
   "execution_count": 5,
   "metadata": {},
   "outputs": [
    {
     "data": {
      "text/plain": [
       "[<matplotlib.lines.Line2D at 0x206edab5208>]"
      ]
     },
     "execution_count": 5,
     "metadata": {},
     "output_type": "execute_result"
    },
    {
     "data": {
      "image/png": "[encoded data removed]",
      "text/plain": [
       "<Figure size 432x288 with 1 Axes>"
      ]
     },
     "metadata": {
      "needs_background": "light"
     },
     "output_type": "display_data"
    }
   ],
   "source": [
    "plt.plot(temp,a_s)"
   ]
  },
  {
   "cell_type": "code",
   "execution_count": 6,
   "metadata": {},
   "outputs": [
    {
     "data": {
      "text/plain": [
       "8.406617071112892"
      ]
     },
     "execution_count": 6,
     "metadata": {},
     "output_type": "execute_result"
    }
   ],
   "source": [
    "eig[0]/kb"
   ]
  },
  {
   "cell_type": "code",
   "execution_count": 7,
   "metadata": {},
   "outputs": [],
   "source": [
    "# We will test the partition function modules on the C-Pt(100) example\n",
    "import qwave\n",
    "import csv \n",
    "from scipy import constants\n",
    "import numpy as np\n",
    "\n",
    "\n",
    "bohr_to_m = constants.physical_constants['Bohr radius'][0] # convert from bohr to meter\n",
    "ang_to_m = constants.physical_constants['Angstrom star'][0] # convert from angstrom to meter\n",
    "\n",
    "au_to_kg = constants.physical_constants['atomic unit of mass'][0]  # convert from au to kg\n",
    "am_to_kg = constants.physical_constants['atomic mass constant'][0] # convert from am to kg\n",
    "\n",
    "h_to_eV = constants.physical_constants['Hartree energy in eV'][0] # convert from Eh to eV\n",
    "\n",
    "x=[] # store data in csv\n",
    "y=[]\n",
    "\n",
    "with open('./arbitrary.csv') as csvfile:                # read csvfile\n",
    "    csvreader = csv.reader( csvfile,delimiter =',')\n",
    "    for row in csvreader:\n",
    "        x.append(float(row[0]))\n",
    "        y.append(float(row[1]))\n",
    "\n",
    "xdata = np.multiply(x,(ang_to_m/bohr_to_m))\n",
    "ydata = np.multiply(y,1/h_to_eV)\n",
    "\n",
    "results = np.vstack((xdata,ydata)).T\n",
    "\n",
    "np.savetxt('./scaled-arbitrary.csv',results,delimiter=',')\n",
    "\n",
    "bl = xdata[-1]-xdata[0]      # box length (centered at zerop)\n",
    "m = 12 * (am_to_kg/au_to_kg) # atomic unit of mass of C atom\n",
    "eigen,wave = qwave.schrodinger_solution(bl,m,\n",
    "                                   pot_func='./scaled-arbitrary.csv',\n",
    "                                   len_eigval = 5, \n",
    "                                #    unit='eV',\n",
    "                                   problem='box')\n",
    "\n",
    "# Now that we have the eigen values, we simply need to call the q_PESq() module, and \n",
    "# specify the eigen values, the temperature range, and the unit the eigenvalues are in.\n",
    "# Note: you should look at the eigenvalues before evaluating anything and modify the \n",
    "# len_eigval parameter as needed. For this example we will just use the first 10 eigenvalues\n",
    "\n",
    "temp = np.linspace(1000,12000) # module will not work at very very low temperatures\n",
    "Q_pesq = np.array(qwave.q_PESq(eigen, temp, kb))\n",
    "\n"
   ]
  },
  {
   "cell_type": "markdown",
   "metadata": {},
   "source": [
    "## q_HO"
   ]
  },
  {
   "cell_type": "markdown",
   "metadata": {},
   "source": [
    "We have also implimented the ability to compute the partition function given the frequency for the harmonic oscillator. It work very similarly as the q_PESq() module, except it evaluates:"
   ]
  },
  {
   "cell_type": "markdown",
   "metadata": {},
   "source": [
    "$$q_{\\text{HO}} =\\frac{\\exp(\\frac{h\\nu}{2 k_{b} T})}{1-\\exp(\\frac{h\\nu}{ k_{b} T})}$$"
   ]
  },
  {
   "cell_type": "markdown",
   "metadata": {},
   "source": [
    "where $h$, and $\\nu$ are Plancks constant and frequency (in cm-1) respectively. "
   ]
  },
  {
   "cell_type": "code",
   "execution_count": 8,
   "metadata": {},
   "outputs": [],
   "source": [
    "# We are going to make up a frequency here that is more intense than what we computed\n",
    "# to illustrate a point made later\n",
    "\n",
    "freq_inplane = 6.43e-13 # in-plane frequency vibration (degenerate)\n",
    "freq_normal = 2.49e-13 # out-of-plane frequency vibration\n",
    "\n",
    "Q_HO_in = qwave.q_HO(freq_inplane, temp, kb, h_to_eV)\n",
    "Q_HO_out = qwave.q_HO(freq_normal, temp, kb, h_to_eV)"
   ]
  },
  {
   "cell_type": "markdown",
   "metadata": {},
   "source": [
    "With these partion functions, we can evaluate some thermodynamic properties"
   ]
  },
  {
   "cell_type": "markdown",
   "metadata": {},
   "source": [
    "## free_A_S()"
   ]
  },
  {
   "cell_type": "markdown",
   "metadata": {},
   "source": [
    "free_A_S() module computes the helmholtz free energy (which is the free energy which corresponds with this ensemble) and the entropy. These are computed as:"
   ]
  },
  {
   "cell_type": "markdown",
   "metadata": {},
   "source": [
    "$$A = -k_{b}T\\ln(\\prod_{i=\\text{DOF}}q_{i})$$\n",
    "<br>\n",
    "$$S = -\\frac{\\partial A}{\\partial T}$$"
   ]
  },
  {
   "cell_type": "markdown",
   "metadata": {},
   "source": [
    "where $i$ covers the availible degrees of freedom. Since we are dealing with a monatomic atom, all we have are the translations of the atom on the surface (translations in the x,y,z). Note 1: you can approximate these translations as frustrated vibrations on the surface. Note 2: for simplicity, we will assume that the motion normal to the surface can always be treated within the harmonic approximaiton, so $q_{z}$ will come from the freq_normal, but you are more than welcome to compute the out of plane potential and evaluate the eigenvalues for that potentials. Also we will assume that the in-plane motions are degenerate."
   ]
  },
  {
   "cell_type": "markdown",
   "metadata": {},
   "source": [
    "free_A_S() takes three parameters: q, temp, and unit. It returns both the free energy and entropy."
   ]
  },
  {
   "cell_type": "code",
   "execution_count": 9,
   "metadata": {},
   "outputs": [],
   "source": [
    "Q_HO_Tot = Q_HO_in * Q_HO_in * Q_HO_out\n",
    "A_HO, S_HO = qwave.free_A_S(Q_HO_Tot, temp, 'eV')\n",
    "\n",
    "Q_PESq_Tot = (Q_pesq*Q_pesq*Q_HO_out)\n",
    "A_PESq,S_PESq = qwave.free_A_S(Q_PESq_Tot,temp,'eV')"
   ]
  },
  {
   "cell_type": "code",
   "execution_count": 10,
   "metadata": {},
   "outputs": [
    {
     "data": {
      "image/png": "[encoded data removed]",
      "text/plain": [
       "<Figure size 432x288 with 1 Axes>"
      ]
     },
     "metadata": {
      "needs_background": "light"
     },
     "output_type": "display_data"
    },
    {
     "data": {
      "image/png": "[encoded data removed]",
      "text/plain": [
       "<Figure size 432x288 with 1 Axes>"
      ]
     },
     "metadata": {
      "needs_background": "light"
     },
     "output_type": "display_data"
    }
   ],
   "source": [
    "import matplotlib.pyplot as plt\n",
    "\n",
    "plt.plot(temp,A_PESq*1000,linewidth=3,color='blue')\n",
    "plt.plot(temp,A_HO*1000,linewidth=3,color='red')\n",
    "plt.xticks(size=14)\n",
    "plt.yticks(size=14)\n",
    "plt.ylabel('A (meV)',size=14)\n",
    "plt.xlabel('Temperature (K)',size=14)\n",
    "plt.legend(['PESq model','HO model'],fontsize=14)\n",
    "plt.show()\n",
    "\n",
    "plt.plot(temp,S_PESq*1000,linewidth=3,color='blue')\n",
    "plt.plot(temp,S_HO*1000,linewidth=3,color='red')\n",
    "plt.xticks(size=14)\n",
    "plt.yticks(size=14)\n",
    "plt.ylabel('S (meV/K)',size=14)\n",
    "plt.xlabel('Temperature (K)',size=14)\n",
    "plt.legend(['PESq model','HO model'],fontsize=14)\n",
    "plt.show()"
   ]
  },
  {
   "cell_type": "markdown",
   "metadata": {},
   "source": [
    "As you can see the harmonic oscillator model overestimate and underestimates the free energy and entropy respectively. The PESq model captures the full affect of anharmonic motions to calculate free energies and entropies. If we used the true frequency (543 cm-1) in the above calculations, the two lines would lie ontop of each other because the HO potential capture the actual potential very well (as seen in the other example notbook)"
   ]
  },
  {
   "cell_type": "code",
   "execution_count": null,
   "metadata": {},
   "outputs": [],
   "source": []
  },
  {
   "cell_type": "code",
   "execution_count": 11,
   "metadata": {},
   "outputs": [
    {
     "name": "stderr",
     "output_type": "stream",
     "text": [
      "c:\\Users\\jacob\\anaconda3\\lib\\site-packages\\ipykernel_launcher.py:1: RuntimeWarning: divide by zero encountered in log\n",
      "  \"\"\"Entry point for launching an IPython kernel.\n"
     ]
    },
    {
     "data": {
      "text/plain": [
       "-inf"
      ]
     },
     "execution_count": 11,
     "metadata": {},
     "output_type": "execute_result"
    }
   ],
   "source": [
    "np.log(np.exp(-5e+325))"
   ]
  },
  {
   "cell_type": "code",
   "execution_count": 12,
   "metadata": {},
   "outputs": [
    {
     "data": {
      "text/plain": [
       "1.0"
      ]
     },
     "execution_count": 12,
     "metadata": {},
     "output_type": "execute_result"
    }
   ],
   "source": [
    "np.exp(-np.nextafter(0,1))"
   ]
  },
  {
   "cell_type": "code",
   "execution_count": 13,
   "metadata": {},
   "outputs": [
    {
     "data": {
      "text/plain": [
       "5e-324"
      ]
     },
     "execution_count": 13,
     "metadata": {},
     "output_type": "execute_result"
    }
   ],
   "source": [
    "np.nextafter(0,1)"
   ]
  },
  {
   "cell_type": "code",
   "execution_count": 14,
   "metadata": {},
   "outputs": [
    {
     "data": {
      "text/plain": [
       "1837.7428916456254"
      ]
     },
     "execution_count": 14,
     "metadata": {},
     "output_type": "execute_result"
    }
   ],
   "source": [
    "1.674e-27/9.109e-31"
   ]
  },
  {
   "cell_type": "code",
   "execution_count": 15,
   "metadata": {},
   "outputs": [
    {
     "data": {
      "text/plain": [
       "1822.888486217313"
      ]
     },
     "execution_count": 15,
     "metadata": {},
     "output_type": "execute_result"
    }
   ],
   "source": [
    "kg_amu = constants.physical_constants['atomic mass constant'][0]\n",
    "kg_au = constants.physical_constants['atomic unit of mass'][0]\n",
    "\n",
    "1 * kg_amu /kg_au"
   ]
  },
  {
   "cell_type": "code",
   "execution_count": null,
   "metadata": {},
   "outputs": [],
   "source": []
  }
 ],
 "metadata": {
  "interpreter": {
   "hash": "c79f8f21da264bd1d028db25c6791996e084443b727ae68f20d92653727834ef"
  },
  "kernelspec": {
   "display_name": "Python 3.7.10 ('base')",
   "language": "python",
   "name": "python3"
  },
  "language_info": {
   "codemirror_mode": {
    "name": "ipython",
    "version": 3
   },
   "file_extension": ".py",
   "mimetype": "text/x-python",
   "name": "python",
   "nbconvert_exporter": "python",
   "pygments_lexer": "ipython3",
   "version": "3.7.10"
  }
 },
 "nbformat": 4,
 "nbformat_minor": 4
}
