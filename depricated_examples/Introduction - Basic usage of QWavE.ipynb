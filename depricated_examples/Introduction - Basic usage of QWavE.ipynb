{
 "cells": [
  {
   "cell_type": "markdown",
   "metadata": {},
   "source": [
    "# Evaluating the Schrodinger Equation"
   ]
  },
  {
   "cell_type": "markdown",
   "metadata": {},
   "source": [
    "QWavE was developed to evaluate the Schrodinger Equation using a fourth-order finite difference discretization for simple and arbitrary potentials. Currently, only 1 and 2-dimensional potentials are implimented."
   ]
  },
  {
   "cell_type": "markdown",
   "metadata": {},
   "source": [
    "## schrsol_1d()"
   ]
  },
  {
   "cell_type": "markdown",
   "metadata": {},
   "source": [
    "The schrsol_1d() module evaluates problems of the form:"
   ]
  },
  {
   "cell_type": "markdown",
   "metadata": {},
   "source": [
    "$$[\\frac{-h^{2}}{8\\pi^{2}m}\\nabla^{2} + V(x)]\\psi(x) = E\\psi(x)$$\n",
    "or\n",
    "$$[\\frac{-1}{2m}\\nabla^{2} + V(x)]\\psi(x) = E\\psi(x)$$ in a.u."
   ]
  },
  {
   "cell_type": "markdown",
   "metadata": {},
   "source": [
    "where we force the wavefunction $\\Psi(x)$ to vanish along at the boundaries of a 1 dimensional box ($\\Psi(-L/2)=\\Psi(L/2)=0$). "
   ]
  },
  {
   "cell_type": "markdown",
   "metadata": {},
   "source": [
    "The potential V(x) must be finite at all values of x within the box and for convience, the box is centered at 0 bohr. In principle this does not need to be the case but from a pedagogical point of view we have choosen this convention to evaluate the Schrodinger equation"
   ]
  },
  {
   "cell_type": "markdown",
   "metadata": {},
   "source": [
    "schrsol_1d() takes at minimum three arguments for the particle in a box problem:\n",
    "\n",
    "<br>&emsp;&emsp;    box_length, mass (each in atomic units), and potential function\n",
    "<br>    \n",
    "schrsol_1d() will evaluate the schrodinger equation for a particle of mass \"mass\", in box with length \"box_length\" given a predifined potential (\"piab\" for particle in a box, \"para\" for a particle in a parabola, or the path to a csv file containing the coordinates of an arbitrary potential). The function evaluates the schrodinger equation given the condition that the potential that is specified is confined within the box, and the potential outside of the box is infinitly high. schrsol_1d will return three arrays, which are the eigenvalues, wavefunctions, and potential of the particle in a box."
   ]
  },
  {
   "cell_type": "markdown",
   "metadata": {},
   "source": [
    "### Particle in a Box (PIAB)"
   ]
  },
  {
   "cell_type": "code",
   "execution_count": 1,
   "metadata": {},
   "outputs": [
    {
     "name": "stdout",
     "output_type": "stream",
     "text": [
      "Computing Kinetic Energy Matrix\n",
      " \n",
      "Computing Potential Energy Matrix\n",
      " \n",
      "Evaluating Hamiltonian to obtain the 10 lowest eigenvalues and corresponding wavefunctions\n",
      "Depending on your grid size this may take a few minutes\n",
      " \n",
      "Done\n",
      " \n",
      "The schrsol_1d() module predicts that a particle of mass 1.0 a.u. in a box of 10.0 bohr\n",
      "      is 4.758e-02 Hartree or 1.091e+16 Joules\n",
      " \n",
      "The analytical solution for a particle of mass 9.11e-31 kg in a box of 5.29e-10 meters\n",
      "      is 4.935e-02 Hartree or 2.151e-19 Joules\n",
      " \n"
     ]
    }
   ],
   "source": [
    "# import qwave\n",
    "from QWavE.qwave import schrodinger\n",
    "from scipy import constants\n",
    "import matplotlib.pyplot as plt\n",
    "import numpy as np\n",
    "\n",
    "# import some constants\n",
    "h = constants.h/(2*np.pi) # planck constant\n",
    "aum = constants.physical_constants['atomic unit of mass'][0] # mass of electron\n",
    "proton_mass = constants.physical_constants['atomic mass constant'][0] # mass of a proton\n",
    "hartree_j = constants.physical_constants['Hartree energy'][0] # convert hartree to J\n",
    "bohr_m = constants.physical_constants['Bohr radius'][0] # convert from bohr to meters\n",
    "\n",
    "# Evaluate 1-D Schnrodinger Equation\n",
    "\n",
    "bl = 10.0    # bohr\n",
    "mass = 1.0 #/ aum   # mass of a proton in atomic units\n",
    "pot = 'piab' # potential model. Current options are 'piab', 'para', or path to csv file\n",
    "             # piab --> V(x) = 0\n",
    "             # para --> V(x) = 1/2 * x**2\n",
    "             # file/to/csv --> comma separated file as described in one_d_potential.csv\n",
    "\n",
    "E_1D, wave, pot = schrodinger.schrsol_1d(mass,bl,pot)\n",
    "\n",
    "print(\" \")\n",
    "\n",
    "print(\"\"\"The schrsol_1d() module predicts that a particle of mass {0} a.u. in a box of {1} bohr\n",
    "      is {2:.3e} Hartree or {3:.3e} Joules\"\"\".format(mass,bl,E_1D[0],(1/hartree_j)*E_1D[0]))\n",
    "\n",
    "# We can check out work by computing the Energy of a particle in a box by hand\n",
    "\n",
    "L = 10 * bohr_m\n",
    "m = 1  * aum\n",
    "n = 1\n",
    "print(' ')\n",
    "En = ((n**2)*(np.pi**2)*(h)**2)/(2*m*(L**2))\n",
    "print(\"\"\"The analytical solution for a particle of mass {0:.2e} kg in a box of {1:.2e} meters\n",
    "      is {2:.3e} Hartree or {3:.3e} Joules\"\"\".format(m,L,En*(1/hartree_j),En))\n",
    "print(' ')\n",
    "\n"
   ]
  },
  {
   "cell_type": "code",
   "execution_count": null,
   "metadata": {},
   "outputs": [],
   "source": [
    "# Compare error in analytical and numerical solutions for the first 10 eigen states\n",
    "\n",
    "En_an = [] # analytical solutions\n",
    "for n in range(1,11):\n",
    "    En_an.append(((n**2)*(np.pi**2)*(h)**2)/(2*m*(L**2)))\n",
    "    \n",
    "En_an = np.array(En_an)*(1/hartree_j)\n",
    "\n",
    "# Make a parity plot to compare solutions\n",
    "\n",
    "plt.plot(np.linspace(0,5),np.linspace(0,5),color='grey',ls='dashed')\n",
    "plt.plot(En_an,E_1D,'bo')\n",
    "plt.xlabel('Analytical Solutions (Hartree)',size=14)\n",
    "plt.ylabel('Numerical Solutions (Hartree)',size=14)\n",
    "plt.xticks(size=14)\n",
    "plt.yticks(size=14)\n",
    "plt.show()\n",
    "\n",
    "# E_1D"
   ]
  },
  {
   "cell_type": "markdown",
   "metadata": {},
   "source": [
    "The deviation from parity increases at larger values of `n`, but follows the same trend expected for a particle in a box. Deviations from parity decrease as the particle mass increases\n",
    "\n",
    "schrsol_1d takes other options to customize the output as well. Type `help(schrodinger.schrsol_1d)` to see the other parameters to tune/"
   ]
  },
  {
   "cell_type": "code",
   "execution_count": null,
   "metadata": {},
   "outputs": [],
   "source": [
    "help(schrodinger.schrsol_1d)"
   ]
  },
  {
   "cell_type": "markdown",
   "metadata": {},
   "source": [
    "Next, we can plot the wavefunctions for the particle in a 1-D box. First, we will plot the eigenvalues in the box which we defines in the problem above. Then we will plot the wavefunctions associated with each eigen value, shifted so the wave functions lie on top of each eigenvalue. We will only plot the first four eigenvalues and wavefunctions."
   ]
  },
  {
   "cell_type": "code",
   "execution_count": null,
   "metadata": {},
   "outputs": [],
   "source": [
    "# Plot the eigen values and wave functions from the schrsol_1d() module\n",
    "\n",
    "grid_points = 101 # grid points to plot wave functions\n",
    "scale = 2 # scaling factor to plot wavefunctions ontop of eigenvalues \n",
    "\n",
    "# Create Box\n",
    "plt.plot(np.linspace(1*bl/2,1*bl/2,grid_points),np.linspace(0,10,grid_points),color='black')\n",
    "plt.plot(np.linspace(-1*bl/2,-1*bl/2,grid_points),np.linspace(0,10,grid_points),color='black')\n",
    "plt.plot(np.linspace(-1*bl/2,1*bl/2,grid_points),np.linspace(0,0,grid_points),color='black')\n",
    "\n",
    "# Plot first four eigen values\n",
    "plt.plot(np.linspace(-1*bl/2,1*bl/2,grid_points),\n",
    "         np.linspace(E_1D[0],E_1D[0],grid_points),color='black',linestyle='dashed')\n",
    "plt.plot(np.linspace(-1*bl/2,1*bl/2,grid_points),\n",
    "         np.linspace(E_1D[1],E_1D[1],grid_points),color='black',linestyle='dashed')\n",
    "plt.plot(np.linspace(-1*bl/2,1*bl/2,grid_points),\n",
    "         np.linspace(E_1D[2],E_1D[2],grid_points),color='black',linestyle='dashed')\n",
    "plt.plot(np.linspace(-1*bl/2,1*bl/2,grid_points),\n",
    "         np.linspace(E_1D[3],E_1D[3],grid_points),color='black',linestyle='dashed')\n",
    "\n",
    "# Plot the wavefunctions of the first four eigen states\n",
    "plt.plot(np.linspace(-1*bl/2,1*bl/2,grid_points),wave[0]/scale + E_1D[0])\n",
    "plt.plot(np.linspace(-1*bl/2,1*bl/2,grid_points),wave[1]/scale + E_1D[1])\n",
    "plt.plot(np.linspace(-1*bl/2,1*bl/2,grid_points),wave[2]/scale + E_1D[2])\n",
    "plt.plot(np.linspace(-1*bl/2,1*bl/2,grid_points),wave[3]/scale + E_1D[3])\n",
    "plt.ylim([-0.05,1])\n",
    "plt.ylabel('Energy (Eh)',size=14)\n",
    "plt.xlabel('Displacement from the center of Box (a0)',size=14)\n",
    "plt.xticks(size=14)\n",
    "plt.yticks(size=14)\n",
    "\n",
    "plt.show()\n"
   ]
  },
  {
   "cell_type": "markdown",
   "metadata": {},
   "source": [
    "### Particle in a Parabola (PARA)"
   ]
  },
  {
   "cell_type": "markdown",
   "metadata": {},
   "source": [
    "We can evaluate the same problem as above, but rather defining the potential inside the box to be zero (V(x)=0), here we will use the built in utility and define the potential as V(x) = $0.5x^2$"
   ]
  },
  {
   "cell_type": "code",
   "execution_count": null,
   "metadata": {},
   "outputs": [],
   "source": [
    "# Solve the schrodinger equation for a parabolic potential in the box\n",
    "\n",
    "bl = 10.0    # bohr\n",
    "mass = 1.0 #/ aum   # mass of a proton in atomic units\n",
    "pot = 'para' # potential model. Current options are 'piab', 'para', or path to csv file\n",
    "             # piab --> V(x) = 0\n",
    "             # para --> V(x) = 1/2 * x**2\n",
    "             # file/to/csv --> comma separated file as described in one_d_potential.csv\n",
    "\n",
    "E_1D_para, wave, pot = schrodinger.schrsol_1d(mass,bl,pot)\n",
    "\n",
    "grid_points = 101 # grid points to plot wave functions\n",
    "scale = 0.8 # scaling factor to plot wavefunctions ontop of eigenvalues \n",
    "\n",
    "# Create Box\n",
    "plt.plot(np.linspace(1*bl/2,1*bl/2,grid_points),np.linspace(0,10,grid_points),color='black')\n",
    "plt.plot(np.linspace(-1*bl/2,-1*bl/2,grid_points),np.linspace(0,10,grid_points),color='black')\n",
    "plt.plot(np.linspace(-1*bl/2,1*bl/2,grid_points),np.linspace(0,0,grid_points),color='black')\n",
    "\n",
    "# Plot first four eigen values\n",
    "plt.plot(np.linspace(-1*bl/2,1*bl/2,grid_points),\n",
    "         np.linspace(E_1D_para[0],E_1D_para[0],grid_points),color='black',linestyle='dashed')\n",
    "plt.plot(np.linspace(-1*bl/2,1*bl/2,grid_points),\n",
    "         np.linspace(E_1D_para[1],E_1D_para[1],grid_points),color='black',linestyle='dashed')\n",
    "plt.plot(np.linspace(-1*bl/2,1*bl/2,grid_points),\n",
    "         np.linspace(E_1D_para[2],E_1D_para[2],grid_points),color='black',linestyle='dashed')\n",
    "plt.plot(np.linspace(-1*bl/2,1*bl/2,grid_points),\n",
    "         np.linspace(E_1D_para[3],E_1D_para[3],grid_points),color='black',linestyle='dashed')\n",
    "\n",
    "# Plot the wavefunctions of the first four eigen states\n",
    "plt.plot(np.linspace(-1*bl/2,1*bl/2,grid_points),wave[0]/scale + E_1D_para[0])\n",
    "plt.plot(np.linspace(-1*bl/2,1*bl/2,grid_points),wave[1]/scale + E_1D_para[1])\n",
    "plt.plot(np.linspace(-1*bl/2,1*bl/2,grid_points),wave[2]/scale + E_1D_para[2])\n",
    "plt.plot(np.linspace(-1*bl/2,1*bl/2,grid_points),wave[3]/scale + E_1D_para[3])\n",
    "plt.ylim([-0.05,4])\n",
    "plt.ylabel('Energy (Eh)',size=14)\n",
    "plt.xlabel('Displacement from the center of Box (a0)',size=14)\n",
    "plt.xticks(size=14)\n",
    "plt.yticks(size=14)\n",
    "\n",
    "# Plot the potential PARA evaluates\n",
    "xline= np.linspace(-1*bl/2,bl/2,grid_points)\n",
    "plt.plot(xline,pot,color='blue',linewidth=3)\n",
    "plt.show()"
   ]
  },
  {
   "cell_type": "markdown",
   "metadata": {},
   "source": [
    "## schrsol_1d(pot='path/to/csv') with an arbitrary potential"
   ]
  },
  {
   "cell_type": "markdown",
   "metadata": {},
   "source": [
    "schrsol_1d() can also read the input from a csv file and evalute the schrodinger equation by interpolating between the points in the csv. The potential should be confined within the box. The maximum box length you select should be the difference between the first and last $x$ value. the CSV file provided evaluates the same potential predicted by setting 'pot = para' as above. All csv files should be formated in the same manner."
   ]
  },
  {
   "cell_type": "code",
   "execution_count": null,
   "metadata": {},
   "outputs": [],
   "source": [
    "import csv\n",
    "\n",
    "csv_file = './one_d_potential.csv' # this csv file represents an arbitary potential supplied but happens to be the same potential as above\n",
    "\n",
    "bl = 10.     # bohr\n",
    "mass = 1.       # a.u of mass\n",
    "E_1D_arb, wave, pot = schrodinger.schrsol_1d(mass,bl,csv_file)\n",
    "\n",
    "grid_points = 101 # grid points to plot wave functions\n",
    "scale = 0.8 # scaling factor to plot wavefunctions ontop of eigenvalues \n",
    "\n",
    "\n",
    "# Create Box\n",
    "plt.plot(np.linspace(1*bl/2,1*bl/2,grid_points),\n",
    "         np.linspace(0,10,grid_points),color='black')\n",
    "plt.plot(np.linspace(-1*bl/2,-1*bl/2,grid_points),\n",
    "         np.linspace(0,10,grid_points),color='black')\n",
    "plt.plot(np.linspace(-1*bl/2,1*bl/2,grid_points),\n",
    "         np.linspace(0,0,grid_points),color='black')\n",
    "\n",
    "# Plot first four eigen values\n",
    "plt.plot(np.linspace(-1*bl/2,1*bl/2,grid_points),\n",
    "         np.linspace(E_1D_arb[0],E_1D_arb[0],grid_points),color='black',linestyle='dashed')\n",
    "plt.plot(np.linspace(-1*bl/2,1*bl/2,grid_points),\n",
    "         np.linspace(E_1D_arb[1],E_1D_arb[1],grid_points),color='black',linestyle='dashed')\n",
    "plt.plot(np.linspace(-1*bl/2,1*bl/2,grid_points),\n",
    "         np.linspace(E_1D_arb[2],E_1D_arb[2],grid_points),color='black',linestyle='dashed')\n",
    "plt.plot(np.linspace(-1*bl/2,1*bl/2,grid_points),\n",
    "         np.linspace(E_1D_arb[3],E_1D_arb[3],grid_points),color='black',linestyle='dashed')\n",
    "\n",
    "# Plot the wavefunctions of the first four eigen states\n",
    "plt.plot(np.linspace(-1*bl/2,1*bl/2,101),wave[0]/scale + E_1D_arb[0])\n",
    "plt.plot(np.linspace(-1*bl/2,1*bl/2,101),wave[1]/scale + E_1D_arb[1])\n",
    "plt.plot(np.linspace(-1*bl/2,1*bl/2,101),wave[2]/scale + E_1D_arb[2])\n",
    "plt.plot(np.linspace(-1*bl/2,1*bl/2,101),wave[3]/scale + E_1D_arb[3])\n",
    "plt.ylim([-0.1,4])\n",
    "plt.ylabel('Energy (Eh)',size=14)\n",
    "plt.xlabel('Displacement from the center of Box (a0)',size=14)\n",
    "plt.xticks(size=14)\n",
    "plt.yticks(size=14)\n",
    "\n",
    "        \n",
    "xline= np.linspace(-1*bl/2,bl/2,grid_points)\n",
    "plt.plot(xline,pot,color='blue',linewidth=3)\n",
    "plt.show()\n"
   ]
  },
  {
   "cell_type": "markdown",
   "metadata": {},
   "source": [
    "As you can see, we get the same answer whether we use the predefined potential or the interpolated potential"
   ]
  },
  {
   "cell_type": "code",
   "execution_count": null,
   "metadata": {},
   "outputs": [],
   "source": [
    "# Make a parity plot to compare solutions\n",
    "\n",
    "plt.plot(np.linspace(0,10),np.linspace(0,10),color='grey',ls='dashed')\n",
    "plt.plot(E_1D_para,E_1D_arb,'bo')\n",
    "plt.xlabel('Parabolic Solutions (Hartree)',size=14)\n",
    "plt.ylabel('Arbitrary Solutions (Hartree)',size=14)\n",
    "plt.xticks(size=14)\n",
    "plt.yticks(size=14)\n",
    "plt.show()\n",
    "\n",
    "# E_1D"
   ]
  },
  {
   "cell_type": "markdown",
   "metadata": {},
   "source": [
    "The Schrodinger equation solver is able to evaluate any 1D potential that satifys the conditions the wavefunction vanishes at the boundary of the box."
   ]
  },
  {
   "cell_type": "markdown",
   "metadata": {},
   "source": [
    "## schrsol_2d()"
   ]
  },
  {
   "cell_type": "markdown",
   "metadata": {},
   "source": [
    "schrsol_2d() is designed to solve the 2D schrodinger equation. The function takes an extra box length parameter, but works as described above.\n",
    "\n",
    "In this example, We will evaluate the 2D Schordinger Equation for a particle in a 2D parabolic potential and plot accosiated wavefunctions."
   ]
  },
  {
   "cell_type": "code",
   "execution_count": null,
   "metadata": {},
   "outputs": [],
   "source": [
    "# initial variable\n",
    "mass = 1.0\n",
    "blx = 10.0\n",
    "bly = 10.0\n",
    "\n",
    "E_2D, wave, pot = schrodinger.schrsol_2d(mass,blx,bly,'para')\n",
    "\n",
    "# define grid to plot wavefunction\n",
    "grid_points = 101\n",
    "xgrid = np.linspace(-blx/2, blx/2, grid_points) # xgrid for finite (central) differentiation\n",
    "ygrid = np.linspace(-bly/2, bly/2, grid_points) # ygrid for finite (central) differentiation\n",
    "    \n",
    "Xgrid,Ygrid = np.meshgrid(xgrid,ygrid) \n",
    "\n",
    "for i in range(0,3):\n",
    "    print('The n={0} Eigen state is = {1:2e}'.format(i,E_2D[i]))\n",
    "    print('The wavefunction acossiated with this state is:')\n",
    "    \n",
    "    Psi = wave[i].reshape(grid_points,grid_points)\n",
    "\n",
    "    plt.figure(figsize=(5,5))\n",
    "    plt.contourf(Xgrid,Ygrid,Psi,100,cmap='seismic')\n",
    "    cbar = plt.colorbar()\n",
    "    cbar.set_ticks([])\n",
    "    plt.show()"
   ]
  },
  {
   "cell_type": "markdown",
   "metadata": {},
   "source": [
    "You can compare these solutions to the 1D solution.\n",
    "\n",
    "There are more modules to come such as:\n",
    "<br>&emsp; Schrodinger equation solver given frequencies\n",
    "<br>&emsp; 3D Schrodinger equation solver\n",
    "<br>&emsp; Partical on a ring \n",
    "\n",
    "Hopefully this introductory notebook has familiarized you with the basic usage of QWavE. Please follow our other examples to do computions of thermodynamic quantities and statistics. If there are any bugs, issues or comments, please direct them to the authors at on the GitHub repository at https://github.com/cwaitt/QWavE."
   ]
  },
  {
   "cell_type": "markdown",
   "metadata": {},
   "source": [
    "Note: At the time this jupyter notebook has been released the QWavE code is still under developement. We will try to keep this notebook and others up to date with changes."
   ]
  },
  {
   "cell_type": "code",
   "execution_count": null,
   "metadata": {},
   "outputs": [],
   "source": []
  }
 ],
 "metadata": {
  "kernelspec": {
   "display_name": "Python 3 (ipykernel)",
   "language": "python",
   "name": "python3"
  },
  "language_info": {
   "codemirror_mode": {
    "name": "ipython",
    "version": 3
   },
   "file_extension": ".py",
   "mimetype": "text/x-python",
   "name": "python",
   "nbconvert_exporter": "python",
   "pygments_lexer": "ipython3",
   "version": "3.10.5"
  }
 },
 "nbformat": 4,
 "nbformat_minor": 4
}
